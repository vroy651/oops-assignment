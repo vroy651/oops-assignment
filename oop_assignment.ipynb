{
 "cells": [
  {
   "cell_type": "markdown",
   "id": "2d9def89-eb09-4d02-b005-a769acf26e7d",
   "metadata": {},
   "source": [
    "Ans-1 class -> class is the blue print of object or instance , which define properties and behaviour, whereas \n",
    "object is the instance of that class.\n",
    "exaple -> phone , it is the blue print where some methods and atrritbutes is defined , iphone is the object of or instance of phone class."
   ]
  },
  {
   "cell_type": "markdown",
   "id": "6d7e8c87-3c8d-4aef-a862-bb4ff77794b3",
   "metadata": {},
   "source": [
    "Ans-2 four pillar of oops are inheretence, polymorphism,encapsulation and absraction."
   ]
  },
  {
   "cell_type": "markdown",
   "id": "8688e755-8397-4f63-bdc2-7755d9b032a1",
   "metadata": {},
   "source": [
    "Ans-3 __init__ is a construction of class ,it is important for intialization of some attributes at the time of object made, for example a developer devlop as class and he introduce some attrtitubes which access has not given to the other users who suppose  to work with that class."
   ]
  },
  {
   "cell_type": "markdown",
   "id": "3d079323-2374-42ce-ae61-0bcb89cd9f31",
   "metadata": {},
   "source": [
    "Ans -4 Inheretence use for reusabilty purpose of code, a child class can inherit the its parent class and use thier public methods and attribute but can't use thier public members.\n",
    "example-> let say if a class Animal has some methods like move, "
   ]
  }
 ],
 "metadata": {
  "kernelspec": {
   "display_name": "Python 3 (ipykernel)",
   "language": "python",
   "name": "python3"
  },
  "language_info": {
   "codemirror_mode": {
    "name": "ipython",
    "version": 3
   },
   "file_extension": ".py",
   "mimetype": "text/x-python",
   "name": "python",
   "nbconvert_exporter": "python",
   "pygments_lexer": "ipython3",
   "version": "3.10.8"
  }
 },
 "nbformat": 4,
 "nbformat_minor": 5
}
